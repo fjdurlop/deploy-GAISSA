{
 "cells": [
  {
   "cell_type": "markdown",
   "id": "d2ef4366",
   "metadata": {},
   "source": [
    "## Experiment with a CNN\n",
    "\n",
    "- [ ] If experiment goes well, add data to repository\n",
    "\n",
    "\n",
    "1. Get one input from test set\n",
    "    1. Get random input\n",
    "    2. Show input\n",
    "2. Get model\n",
    "3. Inference with model using the random input\n",
    "4. return prediction"
   ]
  },
  {
   "cell_type": "code",
   "execution_count": 2,
   "id": "758f66a8",
   "metadata": {},
   "outputs": [
    {
     "name": "stdout",
     "output_type": "stream",
     "text": [
      "D:\\guided-retraining\\utils\n"
     ]
    }
   ],
   "source": [
    "cd D:/guided-retraining/utils/"
   ]
  },
  {
   "cell_type": "code",
   "execution_count": 93,
   "id": "101462cc",
   "metadata": {},
   "outputs": [],
   "source": [
    "import tensorflow as tf\n",
    "import numpy as np\n",
    "import matplotlib.pyplot as plt\n",
    "import random"
   ]
  },
  {
   "cell_type": "code",
   "execution_count": 3,
   "id": "accaaf1b",
   "metadata": {},
   "outputs": [
    {
     "name": "stdout",
     "output_type": "stream",
     "text": [
      "2.5.0\n",
      "keras\n",
      "2.5.0\n"
     ]
    }
   ],
   "source": [
    "import utils_guided_retraining2 as utils"
   ]
  },
  {
   "cell_type": "code",
   "execution_count": 4,
   "id": "0834232e",
   "metadata": {},
   "outputs": [],
   "source": [
    "dataset = \"fashion\""
   ]
  },
  {
   "cell_type": "code",
   "execution_count": 6,
   "id": "8f62e455",
   "metadata": {},
   "outputs": [
    {
     "name": "stdout",
     "output_type": "stream",
     "text": [
      "D:/guided-retraining/data/fashion/x_test.npy\n",
      "x_set len:  7001\n",
      "D:/guided-retraining/data/fashion/y_test.npy\n",
      "y_set len:  7001\n",
      "D:/guided-retraining/data/fashion/x_train.npy\n",
      "x_set len:  48999\n",
      "D:/guided-retraining/data/fashion/y_train.npy\n",
      "y_set len:  48999\n"
     ]
    }
   ],
   "source": [
    "x_test,y_test = utils.get_data(dataset,\"Test\",True)\n",
    "x_test,y_test = utils.get_data(dataset,\"Train\",True)"
   ]
  },
  {
   "cell_type": "code",
   "execution_count": 7,
   "id": "e09c898f",
   "metadata": {},
   "outputs": [
    {
     "name": "stdout",
     "output_type": "stream",
     "text": [
      "D:/guided-retraining/models/model_fashion_2\n",
      "D:/guided-retraining/models/model_fashion_2\n",
      "Model loaded correctly\n"
     ]
    }
   ],
   "source": [
    "model_dir = \"D:/guided-retraining/\"\n",
    "if(dataset == 'gtsrb'):\n",
    "    model_dir += \"models/tf_model_25-06\"\n",
    "elif(dataset == 'intel'):\n",
    "    model_dir += \"models/intel_model_21_10\"\n",
    "elif(dataset == 'mnist'):\n",
    "    model_dir += \"models/models2\"\n",
    "elif(dataset == 'cifar'):\n",
    "    model_dir += \"models/model_02\"\n",
    "elif(dataset == 'fashion'):\n",
    "    model_dir += \"models/model_fashion_2\"\n",
    "\n",
    "\n",
    "print(model_dir)\n",
    "model_original = utils.My_model(dataset,True, model_dir)"
   ]
  },
  {
   "cell_type": "code",
   "execution_count": 87,
   "id": "6ddc4c6f",
   "metadata": {},
   "outputs": [
    {
     "name": "stdout",
     "output_type": "stream",
     "text": [
      "D:/GAISSA/deploy-GAISSA/models/model_fashion.h5\n",
      "Model loaded correctly\n"
     ]
    }
   ],
   "source": [
    "dataset = \"fashion\"\n",
    "model_original = utils.My_model(dataset,True, f\"D:/GAISSA/deploy-GAISSA/models/model_{dataset}.h5\")"
   ]
  },
  {
   "cell_type": "code",
   "execution_count": 88,
   "id": "4d0bfaef",
   "metadata": {},
   "outputs": [
    {
     "name": "stdout",
     "output_type": "stream",
     "text": [
      "Model: \"sequential_2\"\n",
      "_________________________________________________________________\n",
      "Layer (type)                 Output Shape              Param #   \n",
      "=================================================================\n",
      "conv2d_4 (Conv2D)            (None, 28, 28, 64)        640       \n",
      "_________________________________________________________________\n",
      "max_pooling2d_3 (MaxPooling2 (None, 14, 14, 64)        0         \n",
      "_________________________________________________________________\n",
      "conv2d_5 (Conv2D)            (None, 14, 14, 64)        36928     \n",
      "_________________________________________________________________\n",
      "max_pooling2d_4 (MaxPooling2 (None, 7, 7, 64)          0         \n",
      "_________________________________________________________________\n",
      "dropout_4 (Dropout)          (None, 7, 7, 64)          0         \n",
      "_________________________________________________________________\n",
      "flatten_2 (Flatten)          (None, 3136)              0         \n",
      "_________________________________________________________________\n",
      "dense_5 (Dense)              (None, 128)               401536    \n",
      "_________________________________________________________________\n",
      "dropout_5 (Dropout)          (None, 128)               0         \n",
      "_________________________________________________________________\n",
      "dense_6 (Dense)              (None, 64)                8256      \n",
      "_________________________________________________________________\n",
      "dropout_6 (Dropout)          (None, 64)                0         \n",
      "_________________________________________________________________\n",
      "dense_7 (Dense)              (None, 10)                650       \n",
      "=================================================================\n",
      "Total params: 448,010\n",
      "Trainable params: 448,010\n",
      "Non-trainable params: 0\n",
      "_________________________________________________________________\n"
     ]
    }
   ],
   "source": [
    "model_original.model.summary()"
   ]
  },
  {
   "cell_type": "code",
   "execution_count": 89,
   "id": "ce63e4c9",
   "metadata": {},
   "outputs": [
    {
     "name": "stdout",
     "output_type": "stream",
     "text": [
      "1532/1532 [==============================] - 15s 9ms/step - loss: 0.1722 - accuracy: 0.9354\n"
     ]
    },
    {
     "data": {
      "text/plain": [
       "[0.17219306528568268, 0.9353864192962646]"
      ]
     },
     "execution_count": 89,
     "metadata": {},
     "output_type": "execute_result"
    }
   ],
   "source": [
    "model_original.evaluate(x_test, y_test)"
   ]
  },
  {
   "cell_type": "code",
   "execution_count": 90,
   "id": "da412778",
   "metadata": {},
   "outputs": [
    {
     "name": "stdout",
     "output_type": "stream",
     "text": [
      "(28, 28)\n"
     ]
    }
   ],
   "source": [
    "img_width,img_height  = model_original.sizes\n",
    "print(model_original.sizes)\n",
    "classes=model_original.num_classes"
   ]
  },
  {
   "cell_type": "code",
   "execution_count": 91,
   "id": "b15bb68f",
   "metadata": {},
   "outputs": [],
   "source": [
    "def see_x_image(x,y,name=None,caption=True, save_dir=\".\"):\n",
    "    '''# (48,48,1) show image, y - (43,)\n",
    "    '''\n",
    "    plt.figure()\n",
    "    \n",
    "    plt.imshow((x.reshape((img_width,img_height))*255).astype(\"uint8\"))\n",
    "    title=str(np.argmax(y))\n",
    "    if name:\n",
    "        title += \" \"+name\n",
    "        plt.title(title)\n",
    "    if caption:\n",
    "        plt.title(title)\n",
    "    print(save_dir)\n",
    "    plt.savefig(save_dir+\"/\"+dataset+\"_image\"+ \".png\")\n",
    "    plt.axis(\"off\")\n",
    "    "
   ]
  },
  {
   "cell_type": "code",
   "execution_count": 24,
   "id": "052f2cdc",
   "metadata": {},
   "outputs": [
    {
     "name": "stdout",
     "output_type": "stream",
     "text": [
      "1/1 [==============================] - 0s 23ms/step - loss: 0.5139 - accuracy: 1.0000\n",
      "[0.5139122605323792, 1.0]\n",
      "Correct class:  [0. 0. 1. 0. 0. 0. 0. 0. 0. 0.] ,  2\n",
      "Prediction:  [0. 0. 1. 0. 0. 0. 0. 0. 0. 0.] ,  2\n"
     ]
    }
   ],
   "source": [
    "\n",
    "print(model_original.evaluate(x_test[i:i+1],y_test[i:i+1]))\n",
    "#print(model_original.model.predict(numpy_raw_test_fgsm[i:i+1]))\n",
    "correct_label =  y_test[i]\n",
    "cat_correct_label = list(correct_label).index(max(correct_label))\n",
    "print(\"Correct class: \",correct_label,\", \",cat_correct_label)\n",
    "\n",
    "pred = tf.keras.utils.to_categorical(np.argmax(model_original.model.predict(x_test[i:i+1])), classes)\n",
    "cat_pred = list(pred).index(max(pred))\n",
    "print(\"Prediction: \",pred, \", \",cat_pred)\n",
    "\n"
   ]
  },
  {
   "cell_type": "code",
   "execution_count": 92,
   "id": "aaea3c8b",
   "metadata": {},
   "outputs": [],
   "source": [
    "label_names = {\n",
    "    0: \"T-shirt/top\",\n",
    "    1: \"Trouser\",\n",
    "    2: \"Pullover\",\n",
    "    3: \"Dress\",\n",
    "    4: \"Coat\",\n",
    "    5: \"Sandal\",\n",
    "    6: \"Shirt\",\n",
    "    7: \"Sneaker\",\n",
    "    8: \"Bag\",\n",
    "    9: \"Ankle boot\"\n",
    "}\n"
   ]
  },
  {
   "cell_type": "code",
   "execution_count": 30,
   "id": "a33d7b88",
   "metadata": {},
   "outputs": [
    {
     "data": {
      "text/plain": [
       "'T-shirt/top'"
      ]
     },
     "execution_count": 30,
     "metadata": {},
     "output_type": "execute_result"
    }
   ],
   "source": [
    "label_names[0]"
   ]
  },
  {
   "cell_type": "code",
   "execution_count": 25,
   "id": "9208a29c",
   "metadata": {
    "scrolled": true
   },
   "outputs": [
    {
     "data": {
      "image/png": "[encoded data removed]",
      "text/plain": [
       "<Figure size 432x288 with 1 Axes>"
      ]
     },
     "metadata": {
      "needs_background": "light"
     },
     "output_type": "display_data"
    }
   ],
   "source": [
    "see_x_image(x_test[i],y_test[i])"
   ]
  },
  {
   "cell_type": "code",
   "execution_count": 36,
   "id": "f9152878",
   "metadata": {
    "scrolled": true
   },
   "outputs": [
    {
     "name": "stdout",
     "output_type": "stream",
     "text": [
      "1/1 [==============================] - 0s 23ms/step - loss: 0.0000e+00 - accuracy: 1.0000\n",
      "[0.0, 1.0]\n",
      "Correct class:  [0. 1. 0. 0. 0. 0. 0. 0. 0. 0.] ,  1\n",
      "Correct clothes:  Trouser\n",
      "Prediction:  [0. 1. 0. 0. 0. 0. 0. 0. 0. 0.] ,  1\n",
      "Prediction clothes:  Trouser\n",
      "1/1 [==============================] - 0s 21ms/step - loss: 0.0075 - accuracy: 1.0000\n",
      "[0.00753359217196703, 1.0]\n",
      "Correct class:  [0. 0. 1. 0. 0. 0. 0. 0. 0. 0.] ,  2\n",
      "Correct clothes:  Pullover\n",
      "Prediction:  [0. 0. 1. 0. 0. 0. 0. 0. 0. 0.] ,  2\n",
      "Prediction clothes:  Pullover\n",
      "1/1 [==============================] - 0s 20ms/step - loss: 0.5139 - accuracy: 1.0000\n",
      "[0.5139122605323792, 1.0]\n",
      "Correct class:  [0. 0. 1. 0. 0. 0. 0. 0. 0. 0.] ,  2\n",
      "Correct clothes:  Pullover\n",
      "Prediction:  [0. 0. 1. 0. 0. 0. 0. 0. 0. 0.] ,  2\n",
      "Prediction clothes:  Pullover\n",
      "1/1 [==============================] - 0s 20ms/step - loss: 1.0745 - accuracy: 0.0000e+00\n",
      "[1.0745042562484741, 0.0]\n",
      "Correct class:  [0. 0. 0. 0. 0. 0. 1. 0. 0. 0.] ,  6\n",
      "Correct clothes:  Shirt\n",
      "Prediction:  [0. 0. 1. 0. 0. 0. 0. 0. 0. 0.] ,  2\n",
      "Prediction clothes:  Pullover\n",
      "Misclassified!\n",
      "1/1 [==============================] - 0s 23ms/step - loss: 0.0000e+00 - accuracy: 1.0000\n",
      "[0.0, 1.0]\n",
      "Correct class:  [0. 0. 0. 0. 0. 1. 0. 0. 0. 0.] ,  5\n",
      "Correct clothes:  Sandal\n",
      "Prediction:  [0. 0. 0. 0. 0. 1. 0. 0. 0. 0.] ,  5\n",
      "Prediction clothes:  Sandal\n",
      "1/1 [==============================] - 0s 21ms/step - loss: 0.0037 - accuracy: 1.0000\n",
      "[0.003731314092874527, 1.0]\n",
      "Correct class:  [0. 0. 0. 1. 0. 0. 0. 0. 0. 0.] ,  3\n",
      "Correct clothes:  Dress\n",
      "Prediction:  [0. 0. 0. 1. 0. 0. 0. 0. 0. 0.] ,  3\n",
      "Prediction clothes:  Dress\n",
      "1/1 [==============================] - 0s 20ms/step - loss: 0.0000e+00 - accuracy: 1.0000\n",
      "[0.0, 1.0]\n",
      "Correct class:  [0. 0. 0. 0. 0. 1. 0. 0. 0. 0.] ,  5\n",
      "Correct clothes:  Sandal\n",
      "Prediction:  [0. 0. 0. 0. 0. 1. 0. 0. 0. 0.] ,  5\n",
      "Prediction clothes:  Sandal\n",
      "1/1 [==============================] - 0s 21ms/step - loss: 0.2675 - accuracy: 1.0000\n",
      "[0.2674734890460968, 1.0]\n",
      "Correct class:  [0. 0. 1. 0. 0. 0. 0. 0. 0. 0.] ,  2\n",
      "Correct clothes:  Pullover\n",
      "Prediction:  [0. 0. 1. 0. 0. 0. 0. 0. 0. 0.] ,  2\n",
      "Prediction clothes:  Pullover\n",
      "1/1 [==============================] - 0s 21ms/step - loss: 5.3892e-04 - accuracy: 1.0000\n",
      "[0.0005389191792346537, 1.0]\n",
      "Correct class:  [1. 0. 0. 0. 0. 0. 0. 0. 0. 0.] ,  0\n",
      "Correct clothes:  T-shirt/top\n",
      "Prediction:  [1. 0. 0. 0. 0. 0. 0. 0. 0. 0.] ,  0\n",
      "Prediction clothes:  T-shirt/top\n",
      "1/1 [==============================] - 0s 21ms/step - loss: 2.8327 - accuracy: 0.0000e+00\n",
      "[2.8327205181121826, 0.0]\n",
      "Correct class:  [0. 0. 1. 0. 0. 0. 0. 0. 0. 0.] ,  2\n",
      "Correct clothes:  Pullover\n",
      "Prediction:  [0. 0. 0. 0. 1. 0. 0. 0. 0. 0.] ,  4\n",
      "Prediction clothes:  Coat\n",
      "Misclassified!\n",
      "1/1 [==============================] - 0s 21ms/step - loss: 2.2769e-05 - accuracy: 1.0000\n",
      "[2.276871418871451e-05, 1.0]\n",
      "Correct class:  [0. 1. 0. 0. 0. 0. 0. 0. 0. 0.] ,  1\n",
      "Correct clothes:  Trouser\n",
      "Prediction:  [0. 1. 0. 0. 0. 0. 0. 0. 0. 0.] ,  1\n",
      "Prediction clothes:  Trouser\n",
      "1/1 [==============================] - 0s 20ms/step - loss: 0.0325 - accuracy: 1.0000\n",
      "[0.03247641399502754, 1.0]\n",
      "Correct class:  [0. 0. 1. 0. 0. 0. 0. 0. 0. 0.] ,  2\n",
      "Correct clothes:  Pullover\n",
      "Prediction:  [0. 0. 1. 0. 0. 0. 0. 0. 0. 0.] ,  2\n",
      "Prediction clothes:  Pullover\n",
      "1/1 [==============================] - 0s 21ms/step - loss: 1.1206e-05 - accuracy: 1.0000\n",
      "[1.1205610462639015e-05, 1.0]\n",
      "Correct class:  [0. 1. 0. 0. 0. 0. 0. 0. 0. 0.] ,  1\n",
      "Correct clothes:  Trouser\n",
      "Prediction:  [0. 1. 0. 0. 0. 0. 0. 0. 0. 0.] ,  1\n",
      "Prediction clothes:  Trouser\n",
      "1/1 [==============================] - 0s 20ms/step - loss: 0.0000e+00 - accuracy: 1.0000\n",
      "[0.0, 1.0]\n",
      "Correct class:  [0. 1. 0. 0. 0. 0. 0. 0. 0. 0.] ,  1\n",
      "Correct clothes:  Trouser\n",
      "Prediction:  [0. 1. 0. 0. 0. 0. 0. 0. 0. 0.] ,  1\n",
      "Prediction clothes:  Trouser\n",
      "1/1 [==============================] - 0s 21ms/step - loss: 9.1225e-04 - accuracy: 1.0000\n",
      "[0.000912250077817589, 1.0]\n",
      "Correct class:  [0. 0. 0. 1. 0. 0. 0. 0. 0. 0.] ,  3\n",
      "Correct clothes:  Dress\n",
      "Prediction:  [0. 0. 0. 1. 0. 0. 0. 0. 0. 0.] ,  3\n",
      "Prediction clothes:  Dress\n",
      "1/1 [==============================] - 0s 18ms/step - loss: 4.4941e-05 - accuracy: 1.0000\n",
      "[4.494089080253616e-05, 1.0]\n",
      "Correct class:  [0. 0. 0. 0. 0. 0. 0. 0. 0. 1.] ,  9\n",
      "Correct clothes:  Ankle boot\n",
      "Prediction:  [0. 0. 0. 0. 0. 0. 0. 0. 0. 1.] ,  9\n",
      "Prediction clothes:  Ankle boot\n",
      "1/1 [==============================] - 0s 21ms/step - loss: 1.1968e-04 - accuracy: 1.0000\n",
      "[0.00011967896716669202, 1.0]\n",
      "Correct class:  [0. 0. 0. 0. 0. 0. 0. 0. 0. 1.] ,  9\n",
      "Correct clothes:  Ankle boot\n",
      "Prediction:  [0. 0. 0. 0. 0. 0. 0. 0. 0. 1.] ,  9\n",
      "Prediction clothes:  Ankle boot\n",
      "1/1 [==============================] - 0s 21ms/step - loss: 0.0000e+00 - accuracy: 1.0000\n",
      "[0.0, 1.0]\n",
      "Correct class:  [0. 1. 0. 0. 0. 0. 0. 0. 0. 0.] ,  1\n",
      "Correct clothes:  Trouser\n",
      "Prediction:  [0. 1. 0. 0. 0. 0. 0. 0. 0. 0.] ,  1\n",
      "Prediction clothes:  Trouser\n",
      "1/1 [==============================] - 0s 20ms/step - loss: 0.0529 - accuracy: 1.0000\n",
      "[0.05286410450935364, 1.0]\n",
      "Correct class:  [0. 0. 0. 0. 0. 0. 1. 0. 0. 0.] ,  6\n",
      "Correct clothes:  Shirt\n",
      "Prediction:  [0. 0. 0. 0. 0. 0. 1. 0. 0. 0.] ,  6\n",
      "Prediction clothes:  Shirt\n",
      "1/1 [==============================] - 0s 21ms/step - loss: 1.2517e-05 - accuracy: 1.0000\n",
      "[1.2516897186287679e-05, 1.0]\n",
      "Correct class:  [0. 0. 0. 0. 0. 0. 0. 1. 0. 0.] ,  7\n",
      "Correct clothes:  Sneaker\n",
      "Prediction:  [0. 0. 0. 0. 0. 0. 0. 1. 0. 0.] ,  7\n",
      "Prediction clothes:  Sneaker\n",
      "[3, 9]\n"
     ]
    }
   ],
   "source": [
    "classes = model_original.num_classes\n",
    "wrong = []\n",
    "for i in range(20):\n",
    "    print(model_original.evaluate(x_test[i:i+1],y_test[i:i+1]))\n",
    "    #print(model_original.model.predict(numpy_raw_test_fgsm[i:i+1]))\n",
    "    correct_label =  y_test[i]\n",
    "    cat_correct_label = list(correct_label).index(max(correct_label))\n",
    "    print(\"Correct class: \",correct_label,\", \",cat_correct_label)\n",
    "    print(\"Correct clothes: \", label_names[cat_correct_label])\n",
    "    \n",
    "    pred = tf.keras.utils.to_categorical(np.argmax(model_original.model.predict(x_test[i:i+1])), classes)\n",
    "    cat_pred = list(pred).index(max(pred))\n",
    "    print(\"Prediction: \",pred, \", \",cat_pred)\n",
    "    print(\"Prediction clothes: \", label_names[cat_pred])\n",
    "    \n",
    "    \n",
    "    if(cat_correct_label != cat_pred):\n",
    "        print(\"Misclassified!\")\n",
    "        wrong.append(i)\n",
    "print(wrong)"
   ]
  },
  {
   "cell_type": "code",
   "execution_count": 42,
   "id": "1af05130",
   "metadata": {},
   "outputs": [
    {
     "name": "stdout",
     "output_type": "stream",
     "text": [
      "3\n",
      "9\n"
     ]
    },
    {
     "data": {
      "image/png": "[encoded data removed]",
      "text/plain": [
       "<Figure size 432x288 with 1 Axes>"
      ]
     },
     "metadata": {
      "needs_background": "light"
     },
     "output_type": "display_data"
    },
    {
     "data": {
      "image/png": "[encoded data removed]",
      "text/plain": [
       "<Figure size 432x288 with 1 Axes>"
      ]
     },
     "metadata": {
      "needs_background": "light"
     },
     "output_type": "display_data"
    }
   ],
   "source": [
    "\n",
    "for i in wrong:\n",
    "    print(i)\n",
    "    see_x_image(x_test[i],y_test[i],label_names[list(y_test[i]).index(max(y_test[i]))])"
   ]
  },
  {
   "cell_type": "code",
   "execution_count": 58,
   "id": "4676bcbb",
   "metadata": {},
   "outputs": [],
   "source": [
    "\n",
    "\n",
    "def get_random_image(x,y):\n",
    "    ran = random.randint(0, len(x))\n",
    "    return x[ran],y[ran]"
   ]
  },
  {
   "cell_type": "code",
   "execution_count": 59,
   "id": "89b1f934",
   "metadata": {},
   "outputs": [],
   "source": [
    "image,label = get_random_image(x_test,y_test)"
   ]
  },
  {
   "cell_type": "code",
   "execution_count": 83,
   "id": "158f9835",
   "metadata": {},
   "outputs": [
    {
     "data": {
      "text/plain": [
       "'D:\\\\guided-retraining\\\\utils'"
      ]
     },
     "execution_count": 83,
     "metadata": {},
     "output_type": "execute_result"
    }
   ],
   "source": [
    "pwd"
   ]
  },
  {
   "cell_type": "code",
   "execution_count": 106,
   "id": "23da0bf7",
   "metadata": {},
   "outputs": [],
   "source": [
    "ran = random.randint(0, len(x_test))\n",
    "label_name = label_names[list(y_test[ran]).index(max(y_test[ran]))]"
   ]
  },
  {
   "cell_type": "code",
   "execution_count": 96,
   "id": "9be4d70e",
   "metadata": {},
   "outputs": [
    {
     "name": "stdout",
     "output_type": "stream",
     "text": [
      "D:/GAISSA/deploy-GAISSA/scripts/\n"
     ]
    },
    {
     "data": {
      "image/png": "[encoded data removed]",
      "text/plain": [
       "<Figure size 432x288 with 1 Axes>"
      ]
     },
     "metadata": {
      "needs_background": "light"
     },
     "output_type": "display_data"
    }
   ],
   "source": [
    "# Get random number between 0 and len(x_test)\n",
    "ran = random.randint(0, len(x_test))\n",
    "see_x_image(x_test[ran],y_test[ran],label_names[list(y_test[ran]).index(max(y_test[ran]))],save_dir=\"D:/GAISSA/deploy-GAISSA/scripts/\")"
   ]
  },
  {
   "cell_type": "code",
   "execution_count": 97,
   "id": "6be436ff",
   "metadata": {},
   "outputs": [
    {
     "data": {
      "text/plain": [
       "(28, 28, 1)"
      ]
     },
     "execution_count": 97,
     "metadata": {},
     "output_type": "execute_result"
    }
   ],
   "source": [
    "image.shape"
   ]
  },
  {
   "cell_type": "code",
   "execution_count": 98,
   "id": "6603edac",
   "metadata": {},
   "outputs": [
    {
     "name": "stdout",
     "output_type": "stream",
     "text": [
      "Prediction:  [0. 0. 0. 0. 0. 0. 1. 0. 0. 0.] ,  6\n",
      "Prediction clothes:  Shirt\n"
     ]
    }
   ],
   "source": [
    "# Inference\n",
    "# predict with that random\n",
    "pred = tf.keras.utils.to_categorical(np.argmax(model_original.model.predict(x_test[ran:ran+1])), classes)\n",
    "cat_pred = list(pred).index(max(pred))\n",
    "print(\"Prediction: \",pred, \", \",cat_pred)\n",
    "print(\"Prediction clothes: \", label_names[cat_pred])"
   ]
  },
  {
   "cell_type": "code",
   "execution_count": 100,
   "id": "a542e4cb",
   "metadata": {},
   "outputs": [],
   "source": [
    "import tensorflow.keras as keras"
   ]
  },
  {
   "cell_type": "code",
   "execution_count": 101,
   "id": "ea0b45bb",
   "metadata": {},
   "outputs": [],
   "source": [
    "\n",
    "\n",
    "fashion_mnist=keras.datasets.fashion_mnist"
   ]
  },
  {
   "cell_type": "code",
   "execution_count": 102,
   "id": "50f58ce1",
   "metadata": {},
   "outputs": [],
   "source": [
    "(_, _), (test_X, test_y) = fashion_mnist.load_data()"
   ]
  },
  {
   "cell_type": "code",
   "execution_count": 105,
   "id": "89d468c8",
   "metadata": {},
   "outputs": [],
   "source": [
    "assert len(test_X) == 10000\n",
    "assert len(test_y) == 10000"
   ]
  },
  {
   "cell_type": "code",
   "execution_count": null,
   "id": "204a901a",
   "metadata": {},
   "outputs": [],
   "source": []
  }
 ],
 "metadata": {
  "kernelspec": {
   "display_name": "Python 3 (ipykernel)",
   "language": "python",
   "name": "python3"
  },
  "language_info": {
   "codemirror_mode": {
    "name": "ipython",
    "version": 3
   },
   "file_extension": ".py",
   "mimetype": "text/x-python",
   "name": "python",
   "nbconvert_exporter": "python",
   "pygments_lexer": "ipython3",
   "version": "3.9.6"
  }
 },
 "nbformat": 4,
 "nbformat_minor": 5
}
