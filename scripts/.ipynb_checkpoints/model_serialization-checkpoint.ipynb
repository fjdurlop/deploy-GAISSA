{
 "cells": [
  {
   "cell_type": "code",
   "execution_count": 1,
   "id": "afd4249b",
   "metadata": {},
   "outputs": [],
   "source": [
    "\"\"\"Sample training script\"\"\"\n",
    "\n",
    "import pickle\n",
    "from collections import namedtuple\n",
    "from pathlib import Path\n",
    "from typing import List\n",
    "\n",
    "from sklearn.datasets import load_iris\n",
    "from sklearn.linear_model import LogisticRegression\n",
    "from sklearn.model_selection import cross_val_score, train_test_split\n",
    "from sklearn.svm import SVC"
   ]
  },
  {
   "cell_type": "code",
   "execution_count": 2,
   "id": "3f35273f",
   "metadata": {},
   "outputs": [
    {
     "name": "stdout",
     "output_type": "stream",
     "text": [
      " Volume in drive D is Data\n",
      " Volume Serial Number is 64D3-FFEA\n",
      "\n",
      " Directory of D:\\GAISSA\\deploy-GAISSA\\scripts\n",
      "\n",
      "26/04/2023  17:16    <DIR>          .\n",
      "26/04/2023  17:13    <DIR>          ..\n",
      "26/04/2023  17:16    <DIR>          .ipynb_checkpoints\n",
      "26/04/2023  17:14                 0 train.py\n",
      "26/04/2023  17:16                72 Untitled.ipynb\n",
      "               2 File(s)             72 bytes\n",
      "               3 Dir(s)  263.200.305.152 bytes free\n"
     ]
    }
   ],
   "source": [
    "ls"
   ]
  },
  {
   "cell_type": "code",
   "execution_count": 3,
   "id": "83bb59bd",
   "metadata": {},
   "outputs": [],
   "source": [
    "MODELS_DIR = Path(\"models/\")\n",
    "model_wrappers_list: List[dict] = []\n",
    "\n",
    "\n",
    "# ================ #\n",
    "# Data preparation #\n",
    "# ================ #\n",
    "\n",
    "# Load data\n",
    "Iris_data = load_iris()\n",
    "\n",
    "# Split data\n",
    "Xtrain, Xtest, Ytrain, Ytest = train_test_split(\n",
    "    Iris_data.data, Iris_data.target, test_size=0.3, random_state=4\n",
    ")"
   ]
  },
  {
   "cell_type": "code",
   "execution_count": 4,
   "id": "72d2d4c5",
   "metadata": {},
   "outputs": [
    {
     "name": "stdout",
     "output_type": "stream",
     "text": [
      "Creating logistic regression model...\n",
      "Logistic regression model created.\n",
      "{'type': 'LogisticRegression', 'params': {'C': 0.1, 'max_iter': 20, 'fit_intercept': True, 'solver': 'liblinear', 'random_state': 0}, 'model': LogisticRegression(C=0.1, max_iter=20, random_state=0, solver='liblinear'), 'metrics': {'accuracy': 0.9145454545454547}}\n",
      "\n",
      "\n"
     ]
    }
   ],
   "source": [
    "# ================== #\n",
    "# LogisticRegression #\n",
    "# ================== #\n",
    "\n",
    "print(\"Creating logistic regression model...\")\n",
    "\n",
    "# Define the Logistic Regression model\n",
    "LR_parameters = {\n",
    "    \"C\": 0.1,\n",
    "    \"max_iter\": 20,\n",
    "    \"fit_intercept\": True,\n",
    "    \"solver\": \"liblinear\",\n",
    "    \"random_state\": 0,\n",
    "}\n",
    "LR_model = LogisticRegression(**LR_parameters)\n",
    "\n",
    "# Train the Model\n",
    "LR_model.fit(Xtrain, Ytrain)\n",
    "\n",
    "# Evaluate model accuracy by cross-validation\n",
    "LR_accuracies = cross_val_score(estimator=LR_model, X=Xtrain, y=Ytrain, cv=10)\n",
    "LR_metrics = {\"accuracy\": LR_accuracies.mean()}\n",
    "\n",
    "# Wrap the trained model in a Model namedtuple and append it to the model list\n",
    "LR_model_dict = {\n",
    "    \"type\": \"LogisticRegression\",\n",
    "    \"params\": LR_parameters,\n",
    "    \"model\": LR_model,\n",
    "    \"metrics\": LR_metrics,\n",
    "}\n",
    "model_wrappers_list.append(LR_model_dict)\n",
    "\n",
    "print(\"Logistic regression model created.\")\n",
    "print(LR_model_dict, end=\"\\n\\n\\n\")\n"
   ]
  },
  {
   "cell_type": "code",
   "execution_count": 5,
   "id": "322a5f8a",
   "metadata": {},
   "outputs": [
    {
     "name": "stdout",
     "output_type": "stream",
     "text": [
      "Creating SVC model...\n",
      "SVC model created.\n",
      "{'type': 'SVC', 'params': {'kernel': 'linear', 'random_state': 0}, 'model': SVC(kernel='linear', random_state=0), 'metrics': {'accuracy': 0.9818181818181818}}\n",
      "\n",
      "\n"
     ]
    }
   ],
   "source": [
    "# =============================== #\n",
    "# C-Support Vector Classification #\n",
    "# =============================== #\n",
    "\n",
    "print(\"Creating SVC model...\")\n",
    "\n",
    "# Define the SVC model\n",
    "SVC_parameters = {\"kernel\": \"linear\", \"random_state\": 0}\n",
    "\n",
    "SVC_model = SVC(**SVC_parameters)\n",
    "\n",
    "# Train the Model\n",
    "SVC_model.fit(Xtrain, Ytrain)\n",
    "\n",
    "# Evaluate model accuracy by cross-validation\n",
    "SVC_accuracies = cross_val_score(estimator=SVC_model, X=Xtrain, y=Ytrain, cv=10)\n",
    "SVC_metrics = {\"accuracy\": SVC_accuracies.mean()}\n",
    "\n",
    "# Wrap the trained model in a Model namedtuple and append it to the model list\n",
    "SVC_model_dict = {\n",
    "    \"type\": \"SVC\",\n",
    "    \"params\": SVC_parameters,\n",
    "    \"model\": SVC_model,\n",
    "    \"metrics\": SVC_metrics,\n",
    "}\n",
    "\n",
    "model_wrappers_list.append(SVC_model_dict)\n",
    "\n",
    "print(\"SVC model created.\")\n",
    "print(SVC_model_dict, end=\"\\n\\n\\n\")"
   ]
  },
  {
   "cell_type": "code",
   "execution_count": null,
   "id": "0fe91dd3",
   "metadata": {},
   "outputs": [],
   "source": [
    "\n",
    "# ============= #\n",
    "# Serialization #\n",
    "# ============= #\n",
    "\n",
    "print(\"Serializing model wrappers...\")\n",
    "\n",
    "for wrapped_model in model_wrappers_list:\n",
    "\n",
    "    pkl_filename = f\"{wrapped_model['type']}_model_2.pkl\"\n",
    "    pkl_path = MODELS_DIR / pkl_filename\n",
    "\n",
    "    with open(pkl_path, \"wb\") as file:\n",
    "        pickle.dump(wrapped_model, file)\n",
    "\n",
    "print(\"Serializing completed.\")"
   ]
  },
  {
   "cell_type": "code",
   "execution_count": null,
   "id": "12d57906",
   "metadata": {},
   "outputs": [],
   "source": []
  }
 ],
 "metadata": {
  "kernelspec": {
   "display_name": "Python 3 (ipykernel)",
   "language": "python",
   "name": "python3"
  },
  "language_info": {
   "codemirror_mode": {
    "name": "ipython",
    "version": 3
   },
   "file_extension": ".py",
   "mimetype": "text/x-python",
   "name": "python",
   "nbconvert_exporter": "python",
   "pygments_lexer": "ipython3",
   "version": "3.9.6"
  }
 },
 "nbformat": 4,
 "nbformat_minor": 5
}
